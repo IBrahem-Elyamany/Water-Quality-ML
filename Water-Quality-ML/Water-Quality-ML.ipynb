{
 "cells": [
  {
   "cell_type": "markdown",
   "id": "45f8248b",
   "metadata": {},
   "source": [
    "# Team 22 (AIBM)"
   ]
  },
  {
   "cell_type": "markdown",
   "id": "98c1b2d9",
   "metadata": {},
   "source": [
    " <!-- ![](https://www.eomap.com/wp-content/uploads/2019/01/World_SM-1024x576.jpg) -->\n",
    "<img class=\"image1\" src=\"https://d9-wret.s3.us-west-2.amazonaws.com/assets/palladium/production/s3fs-public/styles/info_block/public/media/images/chalkboardQWv3.png?itok=osJJwPW7\" style=\"width:400px;height:200px\"/>"
   ]
  },
  {
   "cell_type": "markdown",
   "id": "08ae67b2",
   "metadata": {},
   "source": [
    "import main library"
   ]
  },
  {
   "cell_type": "code",
   "execution_count": null,
   "id": "fbcc92c4",
   "metadata": {},
   "outputs": [],
   "source": [
    "import pandas as pd\n",
    "import numpy as np\n",
    "import seaborn as sns\n",
    "import matplotlib.pyplot as plt\n",
    "from sklearn.linear_model import LinearRegression\n",
    "from sklearn.model_selection import train_test_split\n",
    "from sklearn.neighbors import KNeighborsClassifier\n",
    "from sklearn.metrics import accuracy_score\n",
    "from sklearn import metrics"
   ]
  },
  {
   "cell_type": "markdown",
   "id": "06c82d48",
   "metadata": {},
   "source": [
    "import the data"
   ]
  },
  {
   "cell_type": "code",
   "execution_count": null,
   "id": "7cf13c87",
   "metadata": {},
   "outputs": [],
   "source": []
  },
  {
   "cell_type": "markdown",
   "id": "099ce0a7",
   "metadata": {},
   "source": [
    "over view your data"
   ]
  },
  {
   "cell_type": "code",
   "execution_count": null,
   "id": "5fe7dd6a",
   "metadata": {},
   "outputs": [],
   "source": []
  },
  {
   "cell_type": "markdown",
   "id": "79a63e7a",
   "metadata": {},
   "source": [
    "make preprocessing"
   ]
  },
  {
   "cell_type": "code",
   "execution_count": null,
   "id": "adf0f389",
   "metadata": {},
   "outputs": [],
   "source": []
  },
  {
   "cell_type": "markdown",
   "id": "bf87d9d6",
   "metadata": {},
   "source": [
    "Divide your data set to training and testing data"
   ]
  },
  {
   "cell_type": "code",
   "execution_count": null,
   "id": "df73f7f2",
   "metadata": {},
   "outputs": [],
   "source": []
  }
 ],
 "metadata": {
  "kernelspec": {
   "display_name": "Python 3 (ipykernel)",
   "language": "python",
   "name": "python3"
  },
  "language_info": {
   "codemirror_mode": {
    "name": "ipython",
    "version": 3
   },
   "file_extension": ".py",
   "mimetype": "text/x-python",
   "name": "python",
   "nbconvert_exporter": "python",
   "pygments_lexer": "ipython3",
   "version": "3.11.5"
  }
 },
 "nbformat": 4,
 "nbformat_minor": 5
}
